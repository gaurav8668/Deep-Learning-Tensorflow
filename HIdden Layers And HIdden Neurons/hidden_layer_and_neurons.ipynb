{
 "metadata": {
  "language_info": {
   "codemirror_mode": {
    "name": "ipython",
    "version": 3
   },
   "file_extension": ".py",
   "mimetype": "text/x-python",
   "name": "python",
   "nbconvert_exporter": "python",
   "pygments_lexer": "ipython3",
   "version": "3.8.3-final"
  },
  "orig_nbformat": 2,
  "kernelspec": {
   "name": "python3",
   "display_name": "Python 3",
   "language": "python"
  }
 },
 "nbformat": 4,
 "nbformat_minor": 2,
 "cells": [
  {
   "source": [
    "## keras Tuner - Decide number of hidden layers and neurons in the Neural Network"
   ],
   "cell_type": "markdown",
   "metadata": {}
  },
  {
   "cell_type": "code",
   "execution_count": 3,
   "metadata": {},
   "outputs": [],
   "source": [
    "import pandas as pd \n",
    "from tensorflow import keras\n",
    "from tensorflow.keras import layers \n",
    "from kerastuner.tuners import RandomSearch"
   ]
  },
  {
   "cell_type": "code",
   "execution_count": 4,
   "metadata": {},
   "outputs": [
    {
     "output_type": "execute_result",
     "data": {
      "text/plain": [
       "      T    TM   Tm     SLP     H   VV    V    VM      PM 2.5\n",
       "0   7.4   9.8  4.8  1017.6  93.0  0.5  4.3   9.4  219.720833\n",
       "1   7.8  12.7  4.4  1018.5  87.0  0.6  4.4  11.1  182.187500\n",
       "2   6.7  13.4  2.4  1019.4  82.0  0.6  4.8  11.1  154.037500\n",
       "3   8.6  15.5  3.3  1018.7  72.0  0.8  8.1  20.6  223.208333\n",
       "4  12.4  20.9  4.4  1017.3  61.0  1.3  8.7  22.2  200.645833"
      ],
      "text/html": "<div>\n<style scoped>\n    .dataframe tbody tr th:only-of-type {\n        vertical-align: middle;\n    }\n\n    .dataframe tbody tr th {\n        vertical-align: top;\n    }\n\n    .dataframe thead th {\n        text-align: right;\n    }\n</style>\n<table border=\"1\" class=\"dataframe\">\n  <thead>\n    <tr style=\"text-align: right;\">\n      <th></th>\n      <th>T</th>\n      <th>TM</th>\n      <th>Tm</th>\n      <th>SLP</th>\n      <th>H</th>\n      <th>VV</th>\n      <th>V</th>\n      <th>VM</th>\n      <th>PM 2.5</th>\n    </tr>\n  </thead>\n  <tbody>\n    <tr>\n      <th>0</th>\n      <td>7.4</td>\n      <td>9.8</td>\n      <td>4.8</td>\n      <td>1017.6</td>\n      <td>93.0</td>\n      <td>0.5</td>\n      <td>4.3</td>\n      <td>9.4</td>\n      <td>219.720833</td>\n    </tr>\n    <tr>\n      <th>1</th>\n      <td>7.8</td>\n      <td>12.7</td>\n      <td>4.4</td>\n      <td>1018.5</td>\n      <td>87.0</td>\n      <td>0.6</td>\n      <td>4.4</td>\n      <td>11.1</td>\n      <td>182.187500</td>\n    </tr>\n    <tr>\n      <th>2</th>\n      <td>6.7</td>\n      <td>13.4</td>\n      <td>2.4</td>\n      <td>1019.4</td>\n      <td>82.0</td>\n      <td>0.6</td>\n      <td>4.8</td>\n      <td>11.1</td>\n      <td>154.037500</td>\n    </tr>\n    <tr>\n      <th>3</th>\n      <td>8.6</td>\n      <td>15.5</td>\n      <td>3.3</td>\n      <td>1018.7</td>\n      <td>72.0</td>\n      <td>0.8</td>\n      <td>8.1</td>\n      <td>20.6</td>\n      <td>223.208333</td>\n    </tr>\n    <tr>\n      <th>4</th>\n      <td>12.4</td>\n      <td>20.9</td>\n      <td>4.4</td>\n      <td>1017.3</td>\n      <td>61.0</td>\n      <td>1.3</td>\n      <td>8.7</td>\n      <td>22.2</td>\n      <td>200.645833</td>\n    </tr>\n  </tbody>\n</table>\n</div>"
     },
     "metadata": {},
     "execution_count": 4
    }
   ],
   "source": [
    "df = pd.read_csv(r'C:\\Users\\jgaur\\Tensorflow_Tut\\HIdden Layers And HIdden Neurons\\real_combine.csv')\n",
    "df.head()   # dataset is all about air quality prediction"
   ]
  },
  {
   "cell_type": "code",
   "execution_count": 5,
   "metadata": {},
   "outputs": [],
   "source": [
    "X = df.iloc[:, :-1] # independent features\n",
    "y = df.iloc[:, -1]  # dependent features"
   ]
  },
  {
   "source": [
    "## Hyperparameters\n",
    "1. How many number of hidden layers we should have?\n",
    "2. How many number of neurons we should have in hidden layers?\n",
    "3. What should be the learning rate?"
   ],
   "cell_type": "markdown",
   "metadata": {}
  },
  {
   "cell_type": "code",
   "execution_count": 20,
   "metadata": {},
   "outputs": [],
   "source": [
    "def build_model(hp):\n",
    "    model = keras.Sequential()\n",
    "    for i in range(hp.Int('num_layers', 2, 20)):\n",
    "        model.add(layers.Dense(units=hp.Int('units_' + str(i),\n",
    "                                            min_value=32,\n",
    "                                            max_value=512,\n",
    "                                            step=32),\n",
    "                               activation='relu'))\n",
    "    model.add(layers.Dense(10, activation='softmax'))\n",
    "    model.compile(\n",
    "        optimizer=keras.optimizers.Adam(\n",
    "            hp.Choice('learning_rate',\n",
    "                      values=[1e-2, 1e-3, 1e-4])),\n",
    "        loss='mean_absolute_error',\n",
    "        metrics=['mean_absolute_error'])\n",
    "    return model\n",
    "    \n",
    "# hp.Int - it tries different-2 values\n",
    "# hp.Choice - it selects only one option "
   ]
  },
  {
   "cell_type": "code",
   "execution_count": 21,
   "metadata": {},
   "outputs": [],
   "source": [
    "tuner = RandomSearch(\n",
    "    build_model,\n",
    "    objective='val_mean_absolute_error', #When we are training our model, one parameter is getting i.e.\n",
    "    max_trials=5,\n",
    "    executions_per_trial=3,\n",
    "    directory='project1', # this will make sure that all the weights are geeting stored inside this directory\n",
    "    project_name='Air Quality Index' )"
   ]
  },
  {
   "cell_type": "code",
   "execution_count": 22,
   "metadata": {},
   "outputs": [
    {
     "output_type": "stream",
     "name": "stdout",
     "text": [
      "Search space summary\nDefault search space size: 4\nnum_layers (Int)\n{'default': None, 'conditions': [], 'min_value': 2, 'max_value': 20, 'step': 1, 'sampling': None}\nunits_0 (Int)\n{'default': None, 'conditions': [], 'min_value': 32, 'max_value': 512, 'step': 32, 'sampling': None}\nunits_1 (Int)\n{'default': None, 'conditions': [], 'min_value': 32, 'max_value': 512, 'step': 32, 'sampling': None}\nlearning_rate (Choice)\n{'default': 0.01, 'conditions': [], 'values': [0.01, 0.001, 0.0001], 'ordered': True}\n"
     ]
    }
   ],
   "source": [
    "tuner.search_space_summary()"
   ]
  },
  {
   "cell_type": "code",
   "execution_count": 24,
   "metadata": {},
   "outputs": [],
   "source": [
    "from sklearn.model_selection import train_test_split\n",
    "X_train, X_test, y_train, y_test = train_test_split(X, y, test_size=0.3, random_state=42)"
   ]
  },
  {
   "cell_type": "code",
   "execution_count": 25,
   "metadata": {},
   "outputs": [
    {
     "output_type": "stream",
     "name": "stdout",
     "text": [
      "Trial 5 Complete [00h 00m 08s]\nval_mean_absolute_error: nan\n\nBest val_mean_absolute_error So Far: nan\nTotal elapsed time: 00h 00m 54s\nINFO:tensorflow:Oracle triggered exit\n"
     ]
    }
   ],
   "source": [
    "tuner.search(X_train, y_train, epochs=5, validation_data=(X_test, y_test))"
   ]
  },
  {
   "cell_type": "code",
   "execution_count": null,
   "metadata": {},
   "outputs": [],
   "source": [
    "  "
   ]
  }
 ]
}