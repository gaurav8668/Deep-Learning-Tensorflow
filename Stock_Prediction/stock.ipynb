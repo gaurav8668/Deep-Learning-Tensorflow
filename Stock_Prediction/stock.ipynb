{
 "metadata": {
  "language_info": {
   "codemirror_mode": {
    "name": "ipython",
    "version": 3
   },
   "file_extension": ".py",
   "mimetype": "text/x-python",
   "name": "python",
   "nbconvert_exporter": "python",
   "pygments_lexer": "ipython3",
   "version": "3.8.3-final"
  },
  "orig_nbformat": 2,
  "kernelspec": {
   "name": "python38364bitbasecondace223c8978ad4b6ea06ed53d263b9bd8",
   "display_name": "Python 3.8.3 64-bit ('base': conda)",
   "language": "python"
  }
 },
 "nbformat": 4,
 "nbformat_minor": 2,
 "cells": [
  {
   "cell_type": "code",
   "execution_count": 1,
   "metadata": {},
   "outputs": [],
   "source": [
    "import tensorflow as tf \n",
    "import pandas as pd \n",
    "import numpy as np \n",
    "from tensorflow import keras\n",
    "import math\n",
    "from sklearn import preprocessing\n",
    "from sklearn.model_selection import train_test_split\n",
    "# from tensorflow.keras.layers.experimental import preprocessing"
   ]
  },
  {
   "cell_type": "code",
   "execution_count": 2,
   "metadata": {},
   "outputs": [
    {
     "output_type": "execute_result",
     "data": {
      "text/plain": [
       "         Date         Open         High          Low        Close  \\\n",
       "0  2020-01-07  1397.939941  1402.989990  1390.380005  1393.339966   \n",
       "1  2020-01-08  1392.079956  1411.579956  1390.839966  1404.319946   \n",
       "2  2020-01-09  1420.569946  1427.329956  1410.270020  1419.829956   \n",
       "3  2020-01-10  1427.560059  1434.928955  1418.349976  1429.729980   \n",
       "4  2020-01-13  1436.130005  1440.520020  1426.020020  1439.229980   \n",
       "\n",
       "     Adj Close   Volume  \n",
       "0  1393.339966  1502700  \n",
       "1  1404.319946  1528000  \n",
       "2  1419.829956  1500900  \n",
       "3  1429.729980  1820700  \n",
       "4  1439.229980  1652300  "
      ],
      "text/html": "<div>\n<style scoped>\n    .dataframe tbody tr th:only-of-type {\n        vertical-align: middle;\n    }\n\n    .dataframe tbody tr th {\n        vertical-align: top;\n    }\n\n    .dataframe thead th {\n        text-align: right;\n    }\n</style>\n<table border=\"1\" class=\"dataframe\">\n  <thead>\n    <tr style=\"text-align: right;\">\n      <th></th>\n      <th>Date</th>\n      <th>Open</th>\n      <th>High</th>\n      <th>Low</th>\n      <th>Close</th>\n      <th>Adj Close</th>\n      <th>Volume</th>\n    </tr>\n  </thead>\n  <tbody>\n    <tr>\n      <th>0</th>\n      <td>2020-01-07</td>\n      <td>1397.939941</td>\n      <td>1402.989990</td>\n      <td>1390.380005</td>\n      <td>1393.339966</td>\n      <td>1393.339966</td>\n      <td>1502700</td>\n    </tr>\n    <tr>\n      <th>1</th>\n      <td>2020-01-08</td>\n      <td>1392.079956</td>\n      <td>1411.579956</td>\n      <td>1390.839966</td>\n      <td>1404.319946</td>\n      <td>1404.319946</td>\n      <td>1528000</td>\n    </tr>\n    <tr>\n      <th>2</th>\n      <td>2020-01-09</td>\n      <td>1420.569946</td>\n      <td>1427.329956</td>\n      <td>1410.270020</td>\n      <td>1419.829956</td>\n      <td>1419.829956</td>\n      <td>1500900</td>\n    </tr>\n    <tr>\n      <th>3</th>\n      <td>2020-01-10</td>\n      <td>1427.560059</td>\n      <td>1434.928955</td>\n      <td>1418.349976</td>\n      <td>1429.729980</td>\n      <td>1429.729980</td>\n      <td>1820700</td>\n    </tr>\n    <tr>\n      <th>4</th>\n      <td>2020-01-13</td>\n      <td>1436.130005</td>\n      <td>1440.520020</td>\n      <td>1426.020020</td>\n      <td>1439.229980</td>\n      <td>1439.229980</td>\n      <td>1652300</td>\n    </tr>\n  </tbody>\n</table>\n</div>"
     },
     "metadata": {},
     "execution_count": 2
    }
   ],
   "source": [
    "df = pd.read_csv(r'C:\\Users\\jgaur\\Tensorflow_Tut\\Stock_Prediction\\GOOG.csv')\n",
    "df.head()"
   ]
  },
  {
   "cell_type": "code",
   "execution_count": 3,
   "metadata": {},
   "outputs": [
    {
     "output_type": "execute_result",
     "data": {
      "text/plain": [
       "(253, 7)"
      ]
     },
     "metadata": {},
     "execution_count": 3
    }
   ],
   "source": [
    "df.shape"
   ]
  },
  {
   "cell_type": "code",
   "execution_count": 4,
   "metadata": {},
   "outputs": [
    {
     "output_type": "execute_result",
     "data": {
      "text/plain": [
       "Date         0\n",
       "Open         0\n",
       "High         0\n",
       "Low          0\n",
       "Close        0\n",
       "Adj Close    0\n",
       "Volume       0\n",
       "dtype: int64"
      ]
     },
     "metadata": {},
     "execution_count": 4
    }
   ],
   "source": [
    "df.isnull().sum()"
   ]
  },
  {
   "cell_type": "code",
   "execution_count": 5,
   "metadata": {},
   "outputs": [
    {
     "output_type": "execute_result",
     "data": {
      "text/plain": [
       "              Open         High          Low        Close    Adj Close  \\\n",
       "count   253.000000   253.000000   253.000000   253.000000   253.000000   \n",
       "mean   1484.095318  1503.603048  1466.368395  1485.681321  1485.681321   \n",
       "std     178.233660   176.478104   180.444330   177.683742   177.683742   \n",
       "min    1056.510010  1071.319946  1013.536011  1056.619995  1056.619995   \n",
       "25%    1396.859985  1415.699951  1386.020020  1403.260010  1403.260010   \n",
       "50%    1475.579956  1490.469971  1465.089966  1480.390015  1480.390015   \n",
       "75%    1578.589966  1593.709961  1554.280029  1573.010010  1573.010010   \n",
       "max    1824.520020  1847.199951  1822.650024  1827.989990  1827.989990   \n",
       "\n",
       "             Volume  \n",
       "count  2.530000e+02  \n",
       "mean   1.897083e+06  \n",
       "std    7.684300e+05  \n",
       "min    3.468000e+05  \n",
       "25%    1.393000e+06  \n",
       "50%    1.660900e+06  \n",
       "75%    2.161600e+06  \n",
       "max    4.329100e+06  "
      ],
      "text/html": "<div>\n<style scoped>\n    .dataframe tbody tr th:only-of-type {\n        vertical-align: middle;\n    }\n\n    .dataframe tbody tr th {\n        vertical-align: top;\n    }\n\n    .dataframe thead th {\n        text-align: right;\n    }\n</style>\n<table border=\"1\" class=\"dataframe\">\n  <thead>\n    <tr style=\"text-align: right;\">\n      <th></th>\n      <th>Open</th>\n      <th>High</th>\n      <th>Low</th>\n      <th>Close</th>\n      <th>Adj Close</th>\n      <th>Volume</th>\n    </tr>\n  </thead>\n  <tbody>\n    <tr>\n      <th>count</th>\n      <td>253.000000</td>\n      <td>253.000000</td>\n      <td>253.000000</td>\n      <td>253.000000</td>\n      <td>253.000000</td>\n      <td>2.530000e+02</td>\n    </tr>\n    <tr>\n      <th>mean</th>\n      <td>1484.095318</td>\n      <td>1503.603048</td>\n      <td>1466.368395</td>\n      <td>1485.681321</td>\n      <td>1485.681321</td>\n      <td>1.897083e+06</td>\n    </tr>\n    <tr>\n      <th>std</th>\n      <td>178.233660</td>\n      <td>176.478104</td>\n      <td>180.444330</td>\n      <td>177.683742</td>\n      <td>177.683742</td>\n      <td>7.684300e+05</td>\n    </tr>\n    <tr>\n      <th>min</th>\n      <td>1056.510010</td>\n      <td>1071.319946</td>\n      <td>1013.536011</td>\n      <td>1056.619995</td>\n      <td>1056.619995</td>\n      <td>3.468000e+05</td>\n    </tr>\n    <tr>\n      <th>25%</th>\n      <td>1396.859985</td>\n      <td>1415.699951</td>\n      <td>1386.020020</td>\n      <td>1403.260010</td>\n      <td>1403.260010</td>\n      <td>1.393000e+06</td>\n    </tr>\n    <tr>\n      <th>50%</th>\n      <td>1475.579956</td>\n      <td>1490.469971</td>\n      <td>1465.089966</td>\n      <td>1480.390015</td>\n      <td>1480.390015</td>\n      <td>1.660900e+06</td>\n    </tr>\n    <tr>\n      <th>75%</th>\n      <td>1578.589966</td>\n      <td>1593.709961</td>\n      <td>1554.280029</td>\n      <td>1573.010010</td>\n      <td>1573.010010</td>\n      <td>2.161600e+06</td>\n    </tr>\n    <tr>\n      <th>max</th>\n      <td>1824.520020</td>\n      <td>1847.199951</td>\n      <td>1822.650024</td>\n      <td>1827.989990</td>\n      <td>1827.989990</td>\n      <td>4.329100e+06</td>\n    </tr>\n  </tbody>\n</table>\n</div>"
     },
     "metadata": {},
     "execution_count": 5
    }
   ],
   "source": [
    "df.describe()"
   ]
  },
  {
   "cell_type": "code",
   "execution_count": 10,
   "metadata": {},
   "outputs": [
    {
     "output_type": "stream",
     "name": "stdout",
     "text": [
      "         Date         Open         High          Low        Close  \\\n0  2020-01-07  1397.939941  1402.989990  1390.380005  1393.339966   \n1  2020-01-08  1392.079956  1411.579956  1390.839966  1404.319946   \n2  2020-01-09  1420.569946  1427.329956  1410.270020  1419.829956   \n3  2020-01-10  1427.560059  1434.928955  1418.349976  1429.729980   \n4  2020-01-13  1436.130005  1440.520020  1426.020020  1439.229980   \n\n     Adj Close   Volume        label  \n0  1393.339966  1502700  1429.729980  \n1  1404.319946  1528000  1439.229980  \n2  1419.829956  1500900  1430.880005  \n3  1429.729980  1820700  1439.199951  \n4  1439.229980  1652300  1451.699951  \n"
     ]
    }
   ],
   "source": [
    "forcast_col = 'Close'\n",
    "# print(df.tail())\n",
    "forcast_out = int(math.ceil(0.01 * len(df)))\n",
    "# print(features)\n",
    "df['label'] = df[forcast_col].shift(-forcast_out)\n",
    "print(df.head())"
   ]
  },
  {
   "cell_type": "code",
   "execution_count": 11,
   "metadata": {},
   "outputs": [
    {
     "output_type": "stream",
     "name": "stdout",
     "text": [
      "(250, 6)\n(250,)\n"
     ]
    }
   ],
   "source": [
    "X = np.array(df.drop(['label', 'Date'], axis=1))\n",
    "# print(X)\n",
    "X = preprocessing.scale(X)\n",
    "# print(\"\")\n",
    "# print(X)\n",
    "# X_ = preprocessing.Normalization()\n",
    "X_lately = X[-forcast_out:]\n",
    "df.dropna(inplace=True)\n",
    "# print(\"\")\n",
    "# print(X_lately)\n",
    "X = X[:-forcast_out]\n",
    "y = np.array(df['label'])\n",
    "print(X.shape)\n",
    "print(y.shape)"
   ]
  },
  {
   "cell_type": "code",
   "execution_count": 25,
   "metadata": {},
   "outputs": [
    {
     "output_type": "stream",
     "name": "stdout",
     "text": [
      "6\n(50, 6)\n"
     ]
    }
   ],
   "source": [
    "X_train, X_test, y_train, y_test = train_test_split(X, y, test_size=0.2)\n",
    "print(X_train.shape[-1])\n",
    "print(X_test.shape)"
   ]
  },
  {
   "cell_type": "code",
   "execution_count": 22,
   "metadata": {},
   "outputs": [
    {
     "output_type": "stream",
     "name": "stdout",
     "text": [
      "Model: \"sequential_3\"\n_________________________________________________________________\nLayer (type)                 Output Shape              Param #   \n=================================================================\ndense_9 (Dense)              (None, 128)               896       \n_________________________________________________________________\ndense_10 (Dense)             (None, 64)                8256      \n_________________________________________________________________\ndense_11 (Dense)             (None, 1)                 65        \n=================================================================\nTotal params: 9,217\nTrainable params: 9,217\nNon-trainable params: 0\n_________________________________________________________________\n"
     ]
    }
   ],
   "source": [
    "model = keras.models.Sequential([\n",
    "    keras.layers.InputLayer(input_shape=(X_train.shape[-1])),\n",
    "    keras.layers.Dense(128, activation='relu'),\n",
    "    keras.layers.Dense(64, activation='relu'),\n",
    "    keras.layers.Dense(1, activation='sigmoid'),\n",
    "])\n",
    "model.summary()"
   ]
  },
  {
   "cell_type": "code",
   "execution_count": 23,
   "metadata": {},
   "outputs": [],
   "source": [
    "loss = keras.losses.MeanSquaredError()\n",
    "optimizer= keras.optimizers.Adam(learning_rate=0.01)\n",
    "model.compile(loss=loss, optimizer=optimizer)"
   ]
  },
  {
   "cell_type": "code",
   "execution_count": 24,
   "metadata": {},
   "outputs": [
    {
     "output_type": "stream",
     "name": "stdout",
     "text": [
      "7/7 - 0s - loss: 2244788.0000\n"
     ]
    }
   ],
   "source": [
    "history = model.fit(X_train, y_train, verbose=2)"
   ]
  },
  {
   "cell_type": "code",
   "execution_count": null,
   "metadata": {},
   "outputs": [],
   "source": []
  },
  {
   "cell_type": "code",
   "execution_count": null,
   "metadata": {},
   "outputs": [],
   "source": []
  }
 ]
}